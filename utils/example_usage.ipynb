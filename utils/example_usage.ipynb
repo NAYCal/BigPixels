{
 "cells": [
  {
   "cell_type": "code",
   "execution_count": null,
   "metadata": {},
   "outputs": [],
   "source": [
    "import matplotlib.pyplot as plt\n",
    "\n",
    "from image_io import *\n",
    "from image_math import *\n",
    "from image_frequencies import *"
   ]
  },
  {
   "cell_type": "code",
   "execution_count": null,
   "metadata": {},
   "outputs": [],
   "source": [
    "samples1 = [\n",
    "    read_image(\n",
    "        file_name=\"sleepy_tofu.jpg\",\n",
    "        directory_path=\"utils/samples/in\",\n",
    "        data_format=\"pil\",\n",
    "        out_size=(300, 350),\n",
    "        grayscale=False,\n",
    "    ),\n",
    "    read_image(\n",
    "        file_name=\"sleepy_tofu.jpg\",\n",
    "        directory_path=\"utils/samples/in\",\n",
    "        data_format=\"numpy\",\n",
    "        out_size=(300, 350),\n",
    "        grayscale=False,\n",
    "    ),\n",
    "    read_image(\n",
    "        file_name=\"sleepy_tofu.jpg\",\n",
    "        directory_path=\"utils/samples/in\",\n",
    "        data_format=\"tensor\",\n",
    "        out_size=(300, 350),\n",
    "        grayscale=False,\n",
    "    ),\n",
    "]\n",
    "\n",
    "fig, ax = plt.subplots(1, 3, figsize=(20, 8))\n",
    "fig.suptitle(\"All data types supported\", fontsize=25)\n",
    "\n",
    "ax[0].imshow(samples1[0])\n",
    "ax[0].set_title(type(samples1[0]))\n",
    "\n",
    "ax[1].imshow(samples1[1])\n",
    "ax[1].set_title(type(samples1[1]))\n",
    "\n",
    "ax[2].imshow(samples1[2].permute(1, 2, 0))\n",
    "ax[2].set_title(type(samples1[2]))"
   ]
  },
  {
   "cell_type": "code",
   "execution_count": null,
   "metadata": {},
   "outputs": [],
   "source": [
    "samples2, sample2_names = read_all_images(\n",
    "    \"utils/samples/in\", \"torch\", out_size=(300, 300), grayscale=False\n",
    ")\n",
    "blurred_samples2 = image_blurr(samples2, ksize=10, ksigma=10, device=\"mps\").cpu()\n",
    "\n",
    "fig, ax = plt.subplots(len(samples2), 2, figsize=(20, 8))\n",
    "fig.suptitle(\"Blur\", fontsize=25)\n",
    "\n",
    "for i, data in enumerate(zip(sample2_names, samples2, blurred_samples2)):\n",
    "    name, sample, result = data\n",
    "    ax[i, 0].imshow(sample.permute(1, 2, 0))\n",
    "    ax[i, 0].set_title(name)\n",
    "\n",
    "    ax[i, 1].imshow(result.permute(1, 2, 0))\n",
    "    ax[i, 1].set_title(\"Blurred image\")\n",
    "    \n",
    "plt.show()"
   ]
  },
  {
   "cell_type": "code",
   "execution_count": null,
   "metadata": {},
   "outputs": [],
   "source": [
    "samples3, sample3_names = read_all_images(\n",
    "    \"utils/samples/in\", \"torch\", out_size=(300, 300), grayscale=False\n",
    ")\n",
    "sharpened_samples3 = image_sharpen(samples3, alpha=20, ksize=3, ksigma=2, device=\"mps\").cpu()\n",
    "\n",
    "fig, ax = plt.subplots(len(samples2), 2, figsize=(20, 8))\n",
    "fig.suptitle(\"Sharpen\", fontsize=25)\n",
    "\n",
    "for i, data in enumerate(zip(sample3_names, samples3, sharpened_samples3)):\n",
    "    name, sample, result = data\n",
    "    ax[i, 0].imshow(sample.permute(1, 2, 0))\n",
    "    ax[i, 0].set_title(name)\n",
    "\n",
    "    ax[i, 1].imshow(result.permute(1, 2, 0))\n",
    "    ax[i, 1].set_title(\"Sharpened image\")\n",
    "    \n",
    "plt.show()"
   ]
  },
  {
   "cell_type": "code",
   "execution_count": null,
   "metadata": {},
   "outputs": [],
   "source": [
    "fig, ax = plt.subplots(1, 2, figsize=(20, 8))\n",
    "fig.suptitle(\"Finite differences\", fontsize=25)\n",
    "\n",
    "ax[0].imshow(\n",
    "    finite_difference(\n",
    "        samples1[1],\n",
    "        reduce_noise=False,\n",
    "        out_grayscale=True,\n",
    "        ksize=30,\n",
    "        ksigma=30,\n",
    "        threshold=None,\n",
    "    )\n",
    ")\n",
    "ax[0].set_title(\"Single channel\")\n",
    "\n",
    "\n",
    "ax[1].imshow(\n",
    "    finite_difference(\n",
    "        samples1[2],\n",
    "        reduce_noise=False,\n",
    "        out_grayscale=False,\n",
    "        ksize=30,\n",
    "        ksigma=30,\n",
    "        threshold=None,\n",
    "    ).permute(1, 2, 0)\n",
    ")\n",
    "ax[1].set_title(\"RGB channels\")\n",
    "plt.show()"
   ]
  },
  {
   "cell_type": "code",
   "execution_count": null,
   "metadata": {},
   "outputs": [],
   "source": [
    "samples3, sample3_names = read_all_images(\n",
    "    \"utils/samples/in\", \"numpy\", out_size=(500, 500), grayscale=False\n",
    ")\n",
    "gaussian_samples3 = gaussian_stack(samples3, depth=5, ksize=10, ksigma=5, device='cpu', is_batch_memory=True)\n",
    "\n",
    "fig, ax = plt.subplots(gaussian_samples3.shape[0], gaussian_samples3.shape[1], figsize=(20, 8))\n",
    "fig.suptitle(\"Gaussian Stack\", fontsize=25)\n",
    "\n",
    "for i, name in enumerate(sample3_names):\n",
    "    ax[i, 0].set_title(name)\n",
    "    for j, g_sample in enumerate(gaussian_samples3[i]):\n",
    "        ax[i, j].imshow(g_sample)\n",
    "\n",
    "plt.show()"
   ]
  },
  {
   "cell_type": "code",
   "execution_count": null,
   "metadata": {},
   "outputs": [],
   "source": [
    "sample = read_image(file_name=\"sleepy_tofu.jpg\", directory_path=\"utils/samples/in\", data_format=\"torch\", out_size=(300, 350), grayscale=False)\n",
    "single_gaussian_stack_sample = gaussian_stack(sample, depth=5, ksize=5, ksigma=5, device='mps', is_batch_memory=False)\n",
    "\n",
    "fig, ax = plt.subplots(1, 5, figsize=(20, 8))\n",
    "fig.suptitle(\"Gaussian Stack on single image\", fontsize=25)\n",
    "\n",
    "for i, result in enumerate(single_gaussian_stack_sample):\n",
    "    ax[i].imshow(result.cpu().permute(1, 2, 0))\n",
    "    \n",
    "plt.show()"
   ]
  },
  {
   "cell_type": "code",
   "execution_count": null,
   "metadata": {},
   "outputs": [],
   "source": [
    "samples3, sample3_names = read_all_images(\n",
    "    \"utils/samples/in\", \"numpy\", out_size=(500, 500), grayscale=False\n",
    ")\n",
    "laplacian_samples3 = laplacian_stack(samples3, depth=10, ksize=10, ksigma=10, device='mps', is_batch_memory=True)\n",
    "\n",
    "fig, ax = plt.subplots(laplacian_samples3.shape[0], laplacian_samples3.shape[1], figsize=(20, 8))\n",
    "fig.suptitle(\"Laplacian Stack. NOTE: Different frequencies can go out of bounds!\", fontsize=25)\n",
    "\n",
    "for i, name in enumerate(sample3_names):\n",
    "    ax[i, 0].set_title(name)\n",
    "    for j, g_sample in enumerate(laplacian_samples3[i]):\n",
    "        ax[i, j].imshow(g_sample)\n",
    "\n",
    "plt.show()"
   ]
  },
  {
   "cell_type": "code",
   "execution_count": null,
   "metadata": {},
   "outputs": [],
   "source": [
    "sample = read_image(file_name=\"sleepy_tofu.jpg\", directory_path=\"utils/samples/in\", data_format=\"torch\", out_size=(300, 350), grayscale=False)\n",
    "single_laplacian_stack_sample = laplacian_stack(sample, depth=5, ksize=5, ksigma=5, device='mps', is_batch_memory=False).cpu()\n",
    "\n",
    "fig, ax = plt.subplots(1, 5, figsize=(20, 8))\n",
    "fig.suptitle(\"Laplacian Stack on single image\", fontsize=25)\n",
    "\n",
    "for i, result in enumerate(single_laplacian_stack_sample):\n",
    "    ax[i].imshow(result.cpu().permute(1, 2, 0))\n",
    "    \n",
    "plt.show()"
   ]
  },
  {
   "cell_type": "code",
   "execution_count": null,
   "metadata": {},
   "outputs": [],
   "source": []
  }
 ],
 "metadata": {
  "kernelspec": {
   "display_name": "CompVision&Photography",
   "language": "python",
   "name": "python3"
  },
  "language_info": {
   "codemirror_mode": {
    "name": "ipython",
    "version": 3
   },
   "file_extension": ".py",
   "mimetype": "text/x-python",
   "name": "python",
   "nbconvert_exporter": "python",
   "pygments_lexer": "ipython3",
   "version": "3.11.5"
  }
 },
 "nbformat": 4,
 "nbformat_minor": 2
}
