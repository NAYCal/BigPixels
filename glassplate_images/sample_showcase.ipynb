{
 "cells": [
  {
   "cell_type": "code",
   "execution_count": 5,
   "metadata": {},
   "outputs": [],
   "source": [
    "import os, sys\n",
    "notebook_path = os.getcwd()\n",
    "parent_directory = os.path.dirname(notebook_path)\n",
    "sys.path.insert(1, parent_directory)\n",
    "from utils.image_io import read_all_images\n",
    "from glassplate_images import GlassPlateImages"
   ]
  },
  {
   "cell_type": "code",
   "execution_count": null,
   "metadata": {},
   "outputs": [],
   "source": [
    "read_all_images(\"samples\", \"numpy\")"
   ]
  }
 ],
 "metadata": {
  "kernelspec": {
   "display_name": "CompVision&Photography",
   "language": "python",
   "name": "python3"
  },
  "language_info": {
   "codemirror_mode": {
    "name": "ipython",
    "version": 3
   },
   "file_extension": ".py",
   "mimetype": "text/x-python",
   "name": "python",
   "nbconvert_exporter": "python",
   "pygments_lexer": "ipython3",
   "version": "3.11.5"
  }
 },
 "nbformat": 4,
 "nbformat_minor": 2
}
