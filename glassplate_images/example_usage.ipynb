{
 "cells": [
  {
   "cell_type": "markdown",
   "metadata": {},
   "source": [
    "# Libraries import"
   ]
  },
  {
   "cell_type": "code",
   "execution_count": null,
   "metadata": {},
   "outputs": [],
   "source": [
    "import os, sys\n",
    "import matplotlib.pyplot as plt\n",
    "\n",
    "notebook_path = os.getcwd()  # Setting up the path to import relative modules\n",
    "parent_directory = os.path.dirname(notebook_path)\n",
    "sys.path.insert(1, parent_directory)\n",
    "\n",
    "from utils.image_io import read_all_images\n",
    "from glassplate_images import GlassPlateImages"
   ]
  },
  {
   "cell_type": "code",
   "execution_count": null,
   "metadata": {},
   "outputs": [],
   "source": [
    "all_images, all_names = read_all_images(\"samples\", \"numpy\")\n",
    "\n",
    "ex1_image, ex1_name = all_images[3], all_names[3]\n",
    "print(ex1_name, ex1_image.shape)\n",
    "ex1_gpi = GlassPlateImages(ex1_image)\n",
    "ex1_colored = ex1_gpi.align()\n",
    "\n",
    "_, axes = plt.subplots(1, 2, figsize=(20, 15))\n",
    "axes[0].imshow(ex1_image)\n",
    "axes[1].imshow(ex1_colored)"
   ]
  },
  {
   "cell_type": "code",
   "execution_count": null,
   "metadata": {},
   "outputs": [],
   "source": [
    "all_images, all_names = read_all_images(\"samples\", \"numpy\")\n",
    "\n",
    "num_columns = 2\n",
    "num_rows =  len(all_images)\n",
    "\n",
    "_, axes = plt.subplots(num_rows, num_columns, figsize=(20, 8))\n",
    "\n",
    "for i, data in enumerate(zip(all_images, all_names)):\n",
    "    image, name = data\n",
    "    colored_im = GlassPlateImages(image).align()\n",
    "    \n",
    "    axes[i, 0].imshow(image)\n",
    "    axes[i, 1].imshow(colored_im)\n",
    "    axes[i, 0].axis('off')\n",
    "    axes[i, 1].axis('off')\n",
    "    \n",
    "    axes[i, 0].text(0.5, 1.05, name, ha='center', va='bottom', transform=axes[i, 0].transAxes, fontsize='large')"
   ]
  },
  {
   "cell_type": "code",
   "execution_count": null,
   "metadata": {},
   "outputs": [],
   "source": []
  }
 ],
 "metadata": {
  "kernelspec": {
   "display_name": "CompVision&Photography",
   "language": "python",
   "name": "python3"
  },
  "language_info": {
   "codemirror_mode": {
    "name": "ipython",
    "version": 3
   },
   "file_extension": ".py",
   "mimetype": "text/x-python",
   "name": "python",
   "nbconvert_exporter": "python",
   "pygments_lexer": "ipython3",
   "version": "3.11.5"
  }
 },
 "nbformat": 4,
 "nbformat_minor": 2
}
